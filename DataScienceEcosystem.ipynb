{
 "cells": [
  {
   "cell_type": "markdown",
   "id": "ec9924a8-6ff1-4087-b043-79b7288db8fa",
   "metadata": {},
   "source": [
    "# Data Science Tools and Ecosystem"
   ]
  },
  {
   "cell_type": "markdown",
   "id": "21c14f2f-7073-4a52-81ee-6fa724387874",
   "metadata": {},
   "source": [
    "In this notebook, Data Science Tools and Ecosystem are summerized."
   ]
  },
  {
   "cell_type": "markdown",
   "id": "a2084d33-06d4-4915-ab2d-3656a315bf9e",
   "metadata": {},
   "source": [
    "**Objectives:**"
   ]
  },
  {
   "cell_type": "markdown",
   "id": "23bd333e-c692-45de-8281-81bf6d6494a7",
   "metadata": {},
   "source": [
    "+ List of Popular Lnaguages\n",
    "+ Commonly used Libraries\n",
    "+ Arithmetic Examples\n",
    "## Author \n",
    "Charan Teja Nagisettygari"
   ]
  },
  {
   "cell_type": "markdown",
   "id": "5129952e-8eee-478a-bbaf-ca4b06ae3427",
   "metadata": {},
   "source": [
    "Some of the popular languages that Data Scientists use are: \n"
   ]
  },
  {
   "cell_type": "markdown",
   "id": "d47abd9e-4fe5-4f4c-a5c8-be05e482cbb7",
   "metadata": {},
   "source": [
    "1. Python\n",
    "2. R Language\n",
    "3. SQL"
   ]
  },
  {
   "cell_type": "markdown",
   "id": "ad386ef8-20f7-4b26-857c-4f19ff095139",
   "metadata": {},
   "source": [
    "Some of the commonly used libraries by Data Scientists include: \n"
   ]
  },
  {
   "cell_type": "markdown",
   "id": "5e8731bc-3182-4428-82c7-c86a594b8fbe",
   "metadata": {},
   "source": [
    "1. Matplotlib\n",
    "2. Numpy\n",
    "3. Pandas"
   ]
  },
  {
   "cell_type": "markdown",
   "id": "54c86ce8-e911-40a6-a7b3-3798484bdb7c",
   "metadata": {},
   "source": [
    "| Data Science Tools |\n",
    "| ------------------ |\n",
    "| Jupyter Notebook |\n",
    "| Pytorch |\n",
    "| MLFlow |\n"
   ]
  },
  {
   "cell_type": "markdown",
   "id": "ba769508-1e28-4dab-8ef5-dc6ba31a0fd7",
   "metadata": {},
   "source": [
    "### Below are a few examples of evaluating arithmetic expression in Python."
   ]
  },
  {
   "cell_type": "markdown",
   "id": "85929fa9-818a-48de-ab49-a5dbdd8ed702",
   "metadata": {},
   "source": [
    "This a simple arithmetic expression to mutiply then add integers"
   ]
  },
  {
   "cell_type": "markdown",
   "id": "98481f51-484f-4a31-b293-b7b9b77be6af",
   "metadata": {},
   "source": [
    "(3*4)+5"
   ]
  },
  {
   "cell_type": "markdown",
   "id": "4f023763-d872-4628-a6a3-711e71356afb",
   "metadata": {},
   "source": [
    "This will convert 200 minutes to hours by diving by 60"
   ]
  },
  {
   "cell_type": "markdown",
   "id": "ba44efb7-ef25-4773-8212-a4f286bc0f29",
   "metadata": {},
   "source": [
    "200/60"
   ]
  },
  {
   "cell_type": "code",
   "execution_count": null,
   "id": "24300987-7c93-4100-b342-ca24e262223d",
   "metadata": {},
   "outputs": [],
   "source": []
  }
 ],
 "metadata": {
  "kernelspec": {
   "display_name": "Python 3 (ipykernel)",
   "language": "python",
   "name": "python3"
  },
  "language_info": {
   "codemirror_mode": {
    "name": "ipython",
    "version": 3
   },
   "file_extension": ".py",
   "mimetype": "text/x-python",
   "name": "python",
   "nbconvert_exporter": "python",
   "pygments_lexer": "ipython3",
   "version": "3.12.4"
  }
 },
 "nbformat": 4,
 "nbformat_minor": 5
}
